{
  "nbformat": 4,
  "nbformat_minor": 0,
  "metadata": {
    "colab": {
      "name": "MNIST.ipynb",
      "version": "0.3.2",
      "provenance": [],
      "collapsed_sections": [],
      "include_colab_link": true
    },
    "kernelspec": {
      "name": "python3",
      "display_name": "Python 3"
    }
  },
  "cells": [
    {
      "cell_type": "markdown",
      "metadata": {
        "id": "view-in-github",
        "colab_type": "text"
      },
      "source": [
        "<a href=\"https://colab.research.google.com/github/tanseersaji/MNIST/blob/master/MNIST.ipynb\" target=\"_parent\"><img src=\"https://colab.research.google.com/assets/colab-badge.svg\" alt=\"Open In Colab\"/></a>"
      ]
    },
    {
      "metadata": {
        "id": "WPIeBqy759zT",
        "colab_type": "text"
      },
      "cell_type": "markdown",
      "source": [
        "# Tensorflow MNIST\n",
        "\n",
        "### Steps\n",
        "\n",
        "1. Import the Tensorflow library into the project"
      ]
    },
    {
      "metadata": {
        "id": "_v6rpbb56S2h",
        "colab_type": "code",
        "colab": {}
      },
      "cell_type": "code",
      "source": [
        "import tensorflow as tf\n",
        "import matplotlib.pyplot as plt"
      ],
      "execution_count": 0,
      "outputs": []
    },
    {
      "metadata": {
        "id": "sSITwGtc6e7S",
        "colab_type": "text"
      },
      "cell_type": "markdown",
      "source": [
        "2. import the example MNIST dataset from tensorflow"
      ]
    },
    {
      "metadata": {
        "id": "B23hMDl56mon",
        "colab_type": "code",
        "colab": {}
      },
      "cell_type": "code",
      "source": [
        "mnist = tf.keras.datasets.mnist"
      ],
      "execution_count": 0,
      "outputs": []
    },
    {
      "metadata": {
        "id": "FxIQmXZc7Ok2",
        "colab_type": "text"
      },
      "cell_type": "markdown",
      "source": [
        "3. Load train and test data"
      ]
    },
    {
      "metadata": {
        "id": "8LesD7U97X9h",
        "colab_type": "code",
        "colab": {
          "base_uri": "https://localhost:8080/",
          "height": 366
        },
        "outputId": "e2a03574-c484-4630-9ca6-ff4ccc330ce8"
      },
      "cell_type": "code",
      "source": [
        "(x_train,y_train),(x_test,y_test) = mnist.load_data()\n",
        "plt.imshow(x_train[0])"
      ],
      "execution_count": 7,
      "outputs": [
        {
          "output_type": "execute_result",
          "data": {
            "text/plain": [
              "<matplotlib.image.AxesImage at 0x7f8b24f2d2e8>"
            ]
          },
          "metadata": {
            "tags": []
          },
          "execution_count": 7
        },
        {
          "output_type": "display_data",
          "data": {
            "image/png": "[encoded data removed]",
            "text/plain": [
              "<Figure size 576x396 with 1 Axes>"
            ]
          },
          "metadata": {
            "tags": []
          }
        }
      ]
    },
    {
      "metadata": {
        "id": "aUFaVDDw9Z4A",
        "colab_type": "text"
      },
      "cell_type": "markdown",
      "source": [
        "4. At this point, the pixel value of each image ranges from 0 to 255, so we will normalize this values from 0 to 1."
      ]
    },
    {
      "metadata": {
        "id": "5YcQFFCq9qov",
        "colab_type": "code",
        "colab": {
          "base_uri": "https://localhost:8080/",
          "height": 366
        },
        "outputId": "1e356543-c254-401f-fbab-6b4d8cf1d6cf"
      },
      "cell_type": "code",
      "source": [
        "x_train = tf.keras.utils.normalize(x_train,axis=1)\n",
        "x_test = tf.keras.utils.normalize(x_test,axis=1)\n",
        "plt.imshow(x_train[0])"
      ],
      "execution_count": 8,
      "outputs": [
        {
          "output_type": "execute_result",
          "data": {
            "text/plain": [
              "<matplotlib.image.AxesImage at 0x7f8b22ebf518>"
            ]
          },
          "metadata": {
            "tags": []
          },
          "execution_count": 8
        },
        {
          "output_type": "display_data",
          "data": {
            "image/png": "[encoded data removed]",
            "text/plain": [
              "<Figure size 576x396 with 1 Axes>"
            ]
          },
          "metadata": {
            "tags": []
          }
        }
      ]
    },
    {
      "metadata": {
        "id": "EqCmMvQ8-jp3",
        "colab_type": "text"
      },
      "cell_type": "markdown",
      "source": [
        "5. Now it's time to make the model."
      ]
    },
    {
      "metadata": {
        "id": "VeyScbnF-7Xa",
        "colab_type": "code",
        "colab": {}
      },
      "cell_type": "code",
      "source": [
        "model = tf.keras.models.Sequential()"
      ],
      "execution_count": 0,
      "outputs": []
    },
    {
      "metadata": {
        "id": "jTaFDcjt_Hts",
        "colab_type": "text"
      },
      "cell_type": "markdown",
      "source": [
        "> The \"Sequential\" model means a feed forword neural network, which is the most common ANN of all."
      ]
    },
    {
      "metadata": {
        "id": "K0YqeuEl_xbu",
        "colab_type": "code",
        "colab": {}
      },
      "cell_type": "code",
      "source": [
        "model.add(tf.keras.layers.Flatten(input_shape=x_train[0].shape))\n",
        "model.add(tf.keras.layers.Dense(128, activation=tf.nn.relu))\n",
        "model.add(tf.keras.layers.Dense(128, activation=tf.nn.relu))\n",
        "model.add(tf.keras.layers.Dense(10, activation=tf.nn.softmax))"
      ],
      "execution_count": 0,
      "outputs": []
    },
    {
      "metadata": {
        "id": "-c0Qmg89A4Ep",
        "colab_type": "text"
      },
      "cell_type": "markdown",
      "source": [
        "> * **tf.keras.layers.Flatten** - Flattens the Multi-dimentional input data to a 1D array\n",
        "> * **f.keras.layers.Dense** - Makes a normal fully connected layer"
      ]
    },
    {
      "metadata": {
        "id": "SQATnQPGCJ21",
        "colab_type": "text"
      },
      "cell_type": "markdown",
      "source": [
        "6. The compile() method of model object is used to train the machine with the training dataset"
      ]
    },
    {
      "metadata": {
        "id": "a8bKONgQCZvW",
        "colab_type": "code",
        "colab": {
          "base_uri": "https://localhost:8080/",
          "height": 265
        },
        "outputId": "153c5c98-0ab1-4a65-9eb7-7297b9bedde7"
      },
      "cell_type": "code",
      "source": [
        "model.compile(optimizer='adam',\n",
        "             loss='sparse_categorical_crossentropy',\n",
        "             metrics=['accuracy'])\n",
        "model.fit(x_train,y_train,epochs=5)"
      ],
      "execution_count": 17,
      "outputs": [
        {
          "output_type": "stream",
          "text": [
            "WARNING:tensorflow:Discrepancy between trainable weights and collected trainable weights, did you set `model.trainable` without calling `model.compile` after ?\n",
            "Epoch 1/5\n",
            "60000/60000 [==============================] - 8s 134us/step - loss: 0.0293 - acc: 0.9912\n",
            "Epoch 2/5\n",
            "60000/60000 [==============================] - 8s 132us/step - loss: 0.0264 - acc: 0.9917\n",
            "Epoch 3/5\n",
            "60000/60000 [==============================] - 8s 133us/step - loss: 0.0236 - acc: 0.9929\n",
            "Epoch 4/5\n",
            "60000/60000 [==============================] - 8s 133us/step - loss: 0.0200 - acc: 0.9941\n",
            "Epoch 5/5\n",
            "60000/60000 [==============================] - 8s 130us/step - loss: 0.0215 - acc: 0.9936\n"
          ],
          "name": "stdout"
        },
        {
          "output_type": "execute_result",
          "data": {
            "text/plain": [
              "<tensorflow.python.keras.callbacks.History at 0x7f8b22063cc0>"
            ]
          },
          "metadata": {
            "tags": []
          },
          "execution_count": 17
        }
      ]
    },
    {
      "metadata": {
        "id": "1pAvtqcAEf1R",
        "colab_type": "text"
      },
      "cell_type": "markdown",
      "source": [
        "7. Test the trained model and get the total loss and accuracy in the testing data."
      ]
    },
    {
      "metadata": {
        "id": "fGzTOHlbEoPl",
        "colab_type": "code",
        "colab": {
          "base_uri": "https://localhost:8080/",
          "height": 55
        },
        "outputId": "45b92882-0127-4042-fdf6-c307af62f253"
      },
      "cell_type": "code",
      "source": [
        "val_loss, val_accuracy = model.evaluate(x_test,y_test)\n",
        "print(val_loss, val_accuracy)"
      ],
      "execution_count": 18,
      "outputs": [
        {
          "output_type": "stream",
          "text": [
            "10000/10000 [==============================] - 0s 33us/step\n",
            "0.11286892618406565 0.9753\n"
          ],
          "name": "stdout"
        }
      ]
    }
  ]
}